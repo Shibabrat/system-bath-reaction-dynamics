{
 "cells": [
  {
   "cell_type": "markdown",
   "metadata": {
    "toc": true
   },
   "source": [
    "<h1>Table of Contents<span class=\"tocSkip\"></span></h1>\n",
    "<div class=\"toc\"><ul class=\"toc-item\"><li><span><a href=\"#Hamiltonian-for-modeling-kinetics-of-two-state-isomerization\" data-toc-modified-id=\"Hamiltonian-for-modeling-kinetics-of-two-state-isomerization-1\"><span class=\"toc-item-num\">1&nbsp;&nbsp;</span>Hamiltonian for modeling kinetics of two state isomerization</a></span></li><li><span><a href=\"#Finding-the-equilibrium-points\" data-toc-modified-id=\"Finding-the-equilibrium-points-2\"><span class=\"toc-item-num\">2&nbsp;&nbsp;</span>Finding the equilibrium points</a></span><ul class=\"toc-item\"><li><span><a href=\"#Analytical-expression-for-the-energy-of-the-equilibrium-point-at-the-bottom-of-the-well\" data-toc-modified-id=\"Analytical-expression-for-the-energy-of-the-equilibrium-point-at-the-bottom-of-the-well-2.1\"><span class=\"toc-item-num\">2.1&nbsp;&nbsp;</span>Analytical expression for the energy of the equilibrium point at the bottom of the well</a></span></li></ul></li></ul></div>"
   ]
  },
  {
   "cell_type": "code",
   "execution_count": 1,
   "metadata": {},
   "outputs": [],
   "source": [
    "#!/usr/bin/env python3\n",
    "\"\"\"\n",
    "Created on Tue Feb 19 2019\n",
    "\n",
    "@author: Shibabrat Naik\n",
    "\"\"\"\n",
    "\n",
    "import numpy as np\n",
    "\n",
    "from matplotlib import cm\n",
    "import matplotlib as mpl\n",
    "import matplotlib.pyplot as plt\n",
    "from mpl_toolkits.mplot3d import Axes3D\n",
    "\n",
    "from pylab import rcParams\n",
    "mpl.rcParams['mathtext.fontset'] = 'cm'\n",
    "mpl.rcParams['mathtext.rm'] = 'serif'\n",
    "# mpl.rcParams['font.family'] = 'serif'\n",
    "# mpl.rcParams['font.serif'] = ['Helvetica']\n",
    "\n",
    "# plt.style.use('seaborn-white') # use sans-serif fonts\n",
    "\n",
    "rcParams['figure.figsize'] = 5, 5\n",
    "\n",
    "label_size = 25 #10, 20\n",
    "mpl.rcParams['xtick.labelsize'] = label_size\n",
    "mpl.rcParams['ytick.labelsize'] = label_size\n",
    "mpl.rcParams['axes.labelsize'] = 25 #, 15\n",
    "\n",
    "mpl.rcParams['axes.spines.left'] = True   ## display axis spines\n",
    "mpl.rcParams['axes.spines.bottom'] = True\n",
    "mpl.rcParams['axes.spines.top'] = True\n",
    "mpl.rcParams['axes.spines.right'] = True\n",
    "mpl.rcParams['xtick.top'] = True\n",
    "mpl.rcParams['ytick.right'] = True\n",
    "mpl.rcParams['xtick.direction'] = 'out'\n",
    "mpl.rcParams['ytick.direction'] = 'out'\n",
    "mpl.rcParams['xtick.major.size'] = 6\n",
    "mpl.rcParams['ytick.major.size'] = 6\n",
    "mpl.rcParams['xtick.major.width'] = 1.0\n",
    "mpl.rcParams['ytick.major.width'] = 1.0\n",
    "\n",
    "\n",
    "import DeLeonBerne2dof\n",
    "import importlib\n",
    "importlib.reload(DeLeonBerne2dof)\n",
    "import DeLeonBerne2dof as DB2dof\n",
    "\n"
   ]
  },
  {
   "cell_type": "markdown",
   "metadata": {},
   "source": [
    "### Hamiltonian for modeling kinetics of two state isomerization\n",
    "\n",
    "Ref: De Leon and Berne, JCP [1981]; Gray and Rice, JCP [1987]"
   ]
  },
  {
   "cell_type": "markdown",
   "metadata": {},
   "source": [
    "### Finding the equilibrium points "
   ]
  },
  {
   "cell_type": "code",
   "execution_count": 2,
   "metadata": {},
   "outputs": [
    {
     "name": "stdout",
     "output_type": "stream",
     "text": [
      "[-3.25267761e-02  7.07106781e-01 -5.92188517e-32  4.91597874e-33]\n",
      "[-3.25267761e-02 -7.07106781e-01 -1.51658044e-32 -3.42765391e-32]\n",
      "[ 1.08635159e-17 -5.34552942e-51 -1.51929084e-64  5.93472984e-66]\n",
      "[[-0.025]]\n"
     ]
    }
   ],
   "source": [
    "from scipy import optimize\n",
    "import DeLeonBerne2dof\n",
    "import importlib\n",
    "importlib.reload(DeLeonBerne2dof)\n",
    "import DeLeonBerne2dof as DB2dof\n",
    "\n",
    "#  mass A, mass B, epsilon, Dx, zeta, lambd = params\n",
    "params =  (8, 8, 1.0, 10, 1.0, 1.5)\n",
    "# params =  (8, 8, 1.0, 10, 2.30, 1.95)\n",
    "# params =  (8, 8, 1.0, 10, 0, 1.95)\n",
    "eq_pt_1 = optimize.fsolve(DB2dof.vec_field_DB, [0, 1, 0, 0], args = params, xtol = 1e-12, maxfev = 1000)\n",
    "print(eq_pt_1)\n",
    "eq_pt_2 = optimize.fsolve(DB2dof.vec_field_DB, [0, -1, 0, 0], args = params, xtol = 1e-12)\n",
    "print(eq_pt_2)\n",
    "\n",
    "# params =  (8, 8, 1.0, 10, 1.0, 1.5)\n",
    "eq_pt_3 = optimize.fsolve(DB2dof.vec_field_DB, [0.1, 0.1, 0, 0], args = params)\n",
    "print(eq_pt_3)\n",
    "\n",
    "\n",
    "totalEnergyEqPt1 = DB2dof.V_DB(eq_pt_1[0], eq_pt_1[1], params[2:])\n",
    "print(totalEnergyEqPt1)"
   ]
  },
  {
   "cell_type": "markdown",
   "metadata": {},
   "source": [
    "#### Analytical expression for the energy of the equilibrium point at the bottom of the well"
   ]
  },
  {
   "cell_type": "code",
   "execution_count": 3,
   "metadata": {},
   "outputs": [
    {
     "name": "stdout",
     "output_type": "stream",
     "text": [
      "-0.02499999999999991\n"
     ]
    }
   ],
   "source": [
    "\n",
    "total_energy_exp = params[3]*(1 - np.exp(-params[5]*eq_pt_1[0]))**2 - \\\n",
    "                    np.exp(-params[4]*params[5]*eq_pt_1[0]) + params[2]\n",
    "print(total_energy_exp)\n",
    "\n"
   ]
  },
  {
   "cell_type": "code",
   "execution_count": 4,
   "metadata": {},
   "outputs": [],
   "source": [
    "\n",
    "ls_tick = 20 #10, 20\n",
    "ls_axes = 30\n",
    "mpl.rcParams['xtick.labelsize'] = ls_tick\n",
    "mpl.rcParams['ytick.labelsize'] = ls_tick\n",
    "mpl.rcParams['axes.labelsize'] = ls_axes #, 15\n",
    "\n",
    "\n",
    "\n",
    "def plot_PE_contours(xVec, yVec, params, ax_pes):            \n",
    "\n",
    "    xMesh, yMesh = np.meshgrid(xVec, yVec)\n",
    "\n",
    "    pe_surf = DB2dof.V_DB(xMesh, yMesh, params)\n",
    "    pe_clines = np.logspace(0, 20, 100, endpoint = True)\n",
    "    \n",
    "#     plt.close('all')\n",
    "#     fig_pes = plt.figure(figsize=(10,10))\n",
    "#     ax_pes = fig_pes.gca()\n",
    "#     cset = ax_pes.contour(xMesh, yMesh, np.log(pe_surf), \n",
    "#                            np.linspace(0, 30, 200, endpoint = True), \n",
    "#                            linewidths = 1.9, \n",
    "#                            cmap = cm.viridis, alpha = 0.9)\n",
    "    \n",
    "    cset = ax_pes.contour(xMesh, yMesh, pe_surf, \\\n",
    "                          pe_clines, linewidths = 1.5, \\\n",
    "                          cmap = cm.viridis, alpha = 0.9)\n",
    "\n",
    "#     ax_pes = fig_pes.add_subplot(111, projection = '3d')\n",
    "#     cset = ax_pes.plot_surface(xMesh, yMesh, pe_surf)\n",
    "    \n",
    "#     ax_pes.scatter(eq_pt_left[0], eq_pt_left[1], s = 40, c = 'r', marker = 'x')\n",
    "#     ax_pes.scatter(eq_pt_right[0], eq_pt_right[1], s = 40, c = 'r', marker = 'x')\n",
    "#     ax_pes.scatter(eq_pt_top[0], eq_pt_top[1], s = 40, c = 'r', marker = 'x')\n",
    "\n",
    "#     ax_pes.set_aspect('equal')\n",
    "#     ax_pes.set_ylabel(r'$y$', rotation = 0)\n",
    "    ax_pes.set_xlabel(r'$x$')\n",
    "\n",
    "    cbar = fig_pes.colorbar(cset, ticks = np.logspace(0, 30, 100, endpoint = True),\n",
    "                            shrink = 0.7, pad = 0.05, \n",
    "                            drawedges = True)\n",
    "#     cbar.set_label(r'$V_{DB}(x, y)$',fontsize = ls_axes)\n",
    "\n",
    "    \n",
    "    return \n",
    "\n"
   ]
  },
  {
   "cell_type": "markdown",
   "metadata": {},
   "source": [
    "### Figure to show the potential energy surface corresponding to parameters in Fig. 3 in De Leon-Berne (1981)"
   ]
  },
  {
   "cell_type": "code",
   "execution_count": 5,
   "metadata": {},
   "outputs": [
    {
     "name": "stdout",
     "output_type": "stream",
     "text": [
      "Using matplotlib backend: MacOSX\n"
     ]
    },
    {
     "data": {
      "text/plain": [
       "Text(1.1,1.25,'$\\\\zeta = 1.00$\\n$\\\\lambda = 1.50$')"
      ]
     },
     "execution_count": 5,
     "metadata": {},
     "output_type": "execute_result"
    }
   ],
   "source": [
    "\n",
    "%matplotlib\n",
    "\n",
    "label_size = 25 #10, 20\n",
    "mpl.rcParams['xtick.labelsize'] = label_size\n",
    "mpl.rcParams['ytick.labelsize'] = label_size\n",
    "mpl.rcParams['axes.labelsize'] = 50 #, 15\n",
    "\n",
    "xRes = 100\n",
    "yRes = 150\n",
    "# xVec = np.linspace(-2.5, 2.5, 100)\n",
    "# yVec = np.linspace(-2.5, 2.5, 100)\n",
    "xVec = np.linspace(-1.0, 1.0, xRes)\n",
    "yVec = np.linspace(-1.5, 1.5, yRes)\n",
    "# xVec = np.linspace(-0.3, 0.3, xRes)\n",
    "# yVec = np.linspace(-1.2, 1.2, yRes)\n",
    "\n",
    "# ordering of the parameters: mass A, mass B, epsilon, Dx, alpha (z in paper), lambd  \n",
    "# params =  [1.0, 10, 1.0, 1.5]\n",
    "# params =  (8.0, 8.0, 1.0, 10, 2.30, 1.95)\n",
    "# params =  (8.0, 8.0, 1.0, 10, 1.00, 2.00)\n",
    "params =  (8.0, 8.0, 1.0, 10, 1.00, 1.50)\n",
    "# params =  (8.0, 8.0, 1.0, 10, 1.00, 1.30)\n",
    "# params =  (8.0, 8.0, 1.0, 10, 1.00, 1.00)\n",
    "# params =  (8.0, 8.0, 1.0, 10, 0.20, 1.00)\n",
    "\n",
    "# file_name = 'pe_contour_param_set1'\n",
    "file_name = 'pe_contour_param_fig3-B2x'\n",
    "\n",
    "fig_pes = plt.figure(figsize=(10,10))\n",
    "ax_pes = fig_pes.gca()\n",
    "plot_PE_contours(xVec, yVec, params[2:], ax_pes)\n",
    "\n",
    "eq_pt_1 = optimize.fsolve(DB2dof.vec_field_DB, [0, 1, 0, 0], args = params, \\\n",
    "                          xtol = 1e-12, maxfev = 1000)\n",
    "eq_pt_2 = optimize.fsolve(DB2dof.vec_field_DB, [0, -1, 0, 0], args = params, \\\n",
    "                          xtol = 1e-12)\n",
    "eq_pt_3 = optimize.fsolve(DB2dof.vec_field_DB, [0.1, 0.1, 0, 0], args = params)\n",
    "\n",
    "ax_pes.scatter(eq_pt_1[0], eq_pt_1[1], 40, marker = 'o', c = 'r')\n",
    "ax_pes.scatter(eq_pt_2[0], eq_pt_2[1], 40, marker = 'o', c = 'r')\n",
    "ax_pes.scatter(eq_pt_3[0], eq_pt_3[1], 80, marker = 'X', c = 'r')\n",
    "\n",
    "ax_pes.text(1.1,1.25,r'$\\zeta = %.2f$' '\\n' r'$\\lambda = %.2f$'%(params[4],params[5]), \\\n",
    "            fontsize = label_size)\n",
    "\n",
    "# pe = V_DB(xVec, yVec, params)\n",
    "\n",
    "# np.savetxt('./data-figures/' + file_name + '.txt', params, header = \"\\epsilon,Dx,alpha,lambd\")\n",
    "# fig_pes.savefig('../../data/DeLeon-Berne/' + file_name + '.pdf', bbox_inches = 'tight')\n",
    "# fig_pes.savefig('../../data-figures/DeLeon-Berne/pes-plots/' + file_name + '.pdf', bbox_inches = 'tight')\n",
    "\n",
    "\n"
   ]
  },
  {
   "cell_type": "code",
   "execution_count": 6,
   "metadata": {},
   "outputs": [
    {
     "name": "stdout",
     "output_type": "stream",
     "text": [
      "Using matplotlib backend: MacOSX\n",
      "0 (1.0, 0.2)\n",
      "1 (1.0, 1.0)\n"
     ]
    }
   ],
   "source": [
    "##!!!!!Something fishy here when calling the potential energy function!!!! \n",
    "\n",
    "%matplotlib\n",
    "\n",
    "lambd_vec = [1.0, 1.00, 1.30, 1.50, 1.95, 2.00] # lambda\n",
    "alpha_vec = [0.20, 1.00, 1.00, 1.00, 1.00, 2.30] # alpha\n",
    "\n",
    "# fig_pes, ax_pes = plt.subplots(1, 2, sharex = True, sharey = True, figsize=(20,10))\n",
    "\n",
    "# ordering of the parameters: mass A, mass B, epsilon, Dx, alpha (z in paper), lambd  \n",
    "for (lambd,alpha) in enumerate(zip(lambd_vec[:2], alpha_vec[:2])):\n",
    "    \n",
    "    print(lambd,alpha)\n",
    "    \n",
    "    params =  (8.0, 8.0, 1.0, 10, alpha, lambd)\n",
    "#     plot_PE_contours(xVec, yVec, params[2:], ax_pes[0])\n",
    "#     pe_surf = DB2dof.V_DB(xMesh, yMesh, params[2:])\n",
    "#     pe_vec = np.logspace(0, 10, 100, endpoint = True)\n",
    "\n",
    "#     cset = axarr_pes[0].contour(xMesh, yMesh, pe_surf, \n",
    "#                                   pe_vec, linewidths = 1.2, \\\n",
    "#                                   cmap = cm.viridis, alpha = 0.9)\n",
    "\n",
    "\n",
    "\n",
    "#     axarr_pes.plot(eq_pt_1[0], eq_pt_1[1], 'Xr', \n",
    "#                Markersize = 10)\n",
    "#     axarr_pes.plot(eq_pt_2[0], eq_pt_2[1], 'Xr', \n",
    "#                Markersize = 10)\n",
    "#     axarr_pes.plot(eq_pt_3[0], eq_pt_3[1], 'Xr', \n",
    "#                Markersize = 10)\n",
    "\n"
   ]
  },
  {
   "cell_type": "code",
   "execution_count": null,
   "metadata": {},
   "outputs": [],
   "source": []
  },
  {
   "cell_type": "code",
   "execution_count": null,
   "metadata": {},
   "outputs": [],
   "source": []
  },
  {
   "cell_type": "code",
   "execution_count": null,
   "metadata": {},
   "outputs": [],
   "source": []
  },
  {
   "cell_type": "code",
   "execution_count": null,
   "metadata": {},
   "outputs": [],
   "source": []
  },
  {
   "cell_type": "code",
   "execution_count": null,
   "metadata": {},
   "outputs": [],
   "source": []
  },
  {
   "cell_type": "code",
   "execution_count": null,
   "metadata": {},
   "outputs": [],
   "source": []
  },
  {
   "cell_type": "code",
   "execution_count": null,
   "metadata": {},
   "outputs": [],
   "source": []
  },
  {
   "cell_type": "code",
   "execution_count": null,
   "metadata": {},
   "outputs": [],
   "source": []
  },
  {
   "cell_type": "code",
   "execution_count": null,
   "metadata": {},
   "outputs": [],
   "source": []
  },
  {
   "cell_type": "code",
   "execution_count": null,
   "metadata": {},
   "outputs": [],
   "source": []
  },
  {
   "cell_type": "code",
   "execution_count": null,
   "metadata": {},
   "outputs": [],
   "source": []
  },
  {
   "cell_type": "code",
   "execution_count": null,
   "metadata": {},
   "outputs": [],
   "source": []
  }
 ],
 "metadata": {
  "kernelspec": {
   "display_name": "Python 3",
   "language": "python",
   "name": "python3"
  },
  "language_info": {
   "codemirror_mode": {
    "name": "ipython",
    "version": 3
   },
   "file_extension": ".py",
   "mimetype": "text/x-python",
   "name": "python",
   "nbconvert_exporter": "python",
   "pygments_lexer": "ipython3",
   "version": "3.6.8"
  },
  "latex_envs": {
   "LaTeX_envs_menu_present": true,
   "autoclose": true,
   "autocomplete": true,
   "bibliofile": "biblio.bib",
   "cite_by": "apalike",
   "current_citInitial": 1,
   "eqLabelWithNumbers": true,
   "eqNumInitial": 1,
   "hotkeys": {
    "equation": "Ctrl-E",
    "itemize": "Ctrl-I"
   },
   "labels_anchors": false,
   "latex_user_defs": false,
   "report_style_numbering": true,
   "user_envs_cfg": false
  },
  "toc": {
   "base_numbering": 1,
   "nav_menu": {},
   "number_sections": true,
   "sideBar": true,
   "skip_h1_title": false,
   "title_cell": "Table of Contents",
   "title_sidebar": "Contents",
   "toc_cell": true,
   "toc_position": {
    "height": "calc(100% - 180px)",
    "left": "10px",
    "top": "150px",
    "width": "244.594px"
   },
   "toc_section_display": true,
   "toc_window_display": true
  },
  "varInspector": {
   "cols": {
    "lenName": 16,
    "lenType": 16,
    "lenVar": 40
   },
   "kernels_config": {
    "python": {
     "delete_cmd_postfix": "",
     "delete_cmd_prefix": "del ",
     "library": "var_list.py",
     "varRefreshCmd": "print(var_dic_list())"
    },
    "r": {
     "delete_cmd_postfix": ") ",
     "delete_cmd_prefix": "rm(",
     "library": "var_list.r",
     "varRefreshCmd": "cat(var_dic_list()) "
    }
   },
   "types_to_exclude": [
    "module",
    "function",
    "builtin_function_or_method",
    "instance",
    "_Feature"
   ],
   "window_display": false
  }
 },
 "nbformat": 4,
 "nbformat_minor": 2
}
