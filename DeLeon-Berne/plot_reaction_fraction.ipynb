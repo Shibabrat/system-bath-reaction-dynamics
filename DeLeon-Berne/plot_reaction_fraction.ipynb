{
 "cells": [
  {
   "cell_type": "markdown",
   "metadata": {
    "toc": true
   },
   "source": [
    "<h1>Table of Contents<span class=\"tocSkip\"></span></h1>\n",
    "<div class=\"toc\"><ul class=\"toc-item\"><li><span><a href=\"#Post-processing-the-reactive-island-data\" data-toc-modified-id=\"Post-processing-the-reactive-island-data-1\"><span class=\"toc-item-num\">1&nbsp;&nbsp;</span>Post-processing the reactive island data</a></span><ul class=\"toc-item\"><li><span><a href=\"#Loading-the-manifold-intersection-data-(warning:-takes-a-bit-of-time)\" data-toc-modified-id=\"Loading-the-manifold-intersection-data-(warning:-takes-a-bit-of-time)-1.1\"><span class=\"toc-item-num\">1.1&nbsp;&nbsp;</span>Loading the manifold intersection data (warning: takes a bit of time)</a></span></li><li><span><a href=\"#Plotting-reaction-fraction-for-small-excess-energy\" data-toc-modified-id=\"Plotting-reaction-fraction-for-small-excess-energy-1.2\"><span class=\"toc-item-num\">1.2&nbsp;&nbsp;</span>Plotting reaction fraction for small excess energy</a></span></li><li><span><a href=\"#Loading-the-manifold-intersection-data-(warning:-takes-a-bit-of-time)\" data-toc-modified-id=\"Loading-the-manifold-intersection-data-(warning:-takes-a-bit-of-time)-1.3\"><span class=\"toc-item-num\">1.3&nbsp;&nbsp;</span>Loading the manifold intersection data (warning: takes a bit of time)</a></span></li><li><span><a href=\"#Plotting-reaction-fraction-for-large-excess-energy\" data-toc-modified-id=\"Plotting-reaction-fraction-for-large-excess-energy-1.4\"><span class=\"toc-item-num\">1.4&nbsp;&nbsp;</span>Plotting reaction fraction for large excess energy</a></span></li></ul></li></ul></div>"
   ]
  },
  {
   "cell_type": "markdown",
   "metadata": {},
   "source": [
    "# Post-processing the reactive island data\n",
    "\n",
    "Different parameter combination of $(\\zeta, \\lambda)$ "
   ]
  },
  {
   "cell_type": "code",
   "execution_count": 25,
   "metadata": {},
   "outputs": [],
   "source": [
    "#!/usr/bin/env python3\n",
    "\"\"\"\n",
    "Created on Thu 18 July 2019 11:19:25\n",
    "\n",
    "@author: Shibabrat Naik\n",
    "\"\"\"\n",
    "\n",
    "import numpy as np\n",
    "\n",
    "from matplotlib import cm\n",
    "import matplotlib as mpl\n",
    "import matplotlib.pyplot as plt\n",
    "from mpl_toolkits.mplot3d import Axes3D\n",
    "\n",
    "from pylab import rcParams\n",
    "mpl.rcParams['mathtext.fontset'] = 'cm'\n",
    "mpl.rcParams['mathtext.rm'] = 'serif'\n",
    "# mpl.rcParams['font.family'] = 'serif'\n",
    "# mpl.rcParams['font.serif'] = ['Helvetica']\n",
    "\n",
    "# plt.style.use('seaborn-dark')\n",
    "plt.style.use('seaborn') # use sans-serif fonts\n",
    "\n",
    "# plt.style.use('default')\n",
    "\n",
    "rcParams['figure.figsize'] = 5, 5\n",
    "\n",
    "label_size = 25 #10, 20\n",
    "mpl.rcParams['xtick.labelsize'] = label_size\n",
    "mpl.rcParams['ytick.labelsize'] = label_size\n",
    "mpl.rcParams['axes.labelsize'] = 25 #, 15\n",
    "\n",
    "mpl.rcParams['axes.spines.left'] = True   ## display axis spines\n",
    "mpl.rcParams['axes.spines.bottom'] = True\n",
    "mpl.rcParams['axes.spines.top'] = True\n",
    "mpl.rcParams['axes.spines.right'] = True\n",
    "mpl.rcParams['xtick.top'] = True\n",
    "mpl.rcParams['ytick.right'] = True\n",
    "mpl.rcParams['xtick.direction'] = 'out'\n",
    "mpl.rcParams['ytick.direction'] = 'out'\n",
    "mpl.rcParams['xtick.major.size'] = 6\n",
    "mpl.rcParams['ytick.major.size'] = 6\n",
    "mpl.rcParams['xtick.major.width'] = 1.0\n",
    "mpl.rcParams['ytick.major.width'] = 1.0\n",
    "\n",
    "\n",
    "import DeLeonBerne2dof\n",
    "import importlib\n",
    "importlib.reload(DeLeonBerne2dof)\n",
    "import DeLeonBerne2dof as DB2dof\n",
    "\n"
   ]
  },
  {
   "cell_type": "markdown",
   "metadata": {},
   "source": [
    "## Loading the manifold intersection data (warning: takes a bit of time)"
   ]
  },
  {
   "cell_type": "code",
   "execution_count": 27,
   "metadata": {},
   "outputs": [],
   "source": [
    "\n",
    "# data_path = '/Users/OptimusPrime/Documents/reaction-dynamics/data/DeLeon-Berne/' + \\\n",
    "#     'reaction-fraction/stable-mani-top-well/'\n",
    "data_path = '/Users/OptimusPrime/Documents/reaction-dynamics/system-bath/' + \\\n",
    "    'data-figures/DeLeon-Berne/reaction-fraction/stable-mani-top-well/'\n",
    "\n",
    "\n",
    "# energy range discretization, this should match the data \n",
    "# deltaE_step = 0.01\n",
    "# deltaE_start = 0.01;\n",
    "# deltaE_stop = 0.51;\n",
    "deltaE_step = 0.01\n",
    "deltaE_start = 0.01;\n",
    "deltaE_stop = 1.00;\n",
    "\n",
    "deltaE_vals = np.arange(deltaE_start,deltaE_stop + deltaE_step,deltaE_step)\n",
    "\n",
    "# zeta_lambda_comb = ['ZETA0.00-LAMBDA1.00/','fig3A1/','fig3A2/','fig3B1/','fig3B2/','fig3C1/','fig3C2/']\n",
    "zeta_lambda_comb = ['ZETA0.00-LAMBDA1.00/','fig3A1/','fig3B2/','fig3C2/']\n",
    "\n",
    "tubemani_intersect_area = np.zeros((len(deltaE_vals),len(zeta_lambda_comb)))\n",
    "energysurf_intersect_area = np.zeros((len(deltaE_vals),len(zeta_lambda_comb)))\n",
    "\n",
    "printFlag = False\n",
    "for k in range(len(zeta_lambda_comb)):\n",
    "    for i in range(len(deltaE_vals)):\n",
    "    \n",
    "        if (float(deltaE_vals[i]) - int(deltaE_vals[i]) < 1e-12):    \n",
    "            data = np.loadtxt(data_path + zeta_lambda_comb[k] + \\\n",
    "                              'xeU1_stable_branch1_eqPt1_DelE%.0f'%(deltaE_vals[i]) + \\\n",
    "                              '_deleonberne.txt')\n",
    "        else:\n",
    "            try:\n",
    "                data = np.loadtxt(data_path + zeta_lambda_comb[k] + \\\n",
    "                                  'xeU1_stable_branch1_eqPt1_DelE%.2f'%(deltaE_vals[i]) + \\\n",
    "                                  '_deleonberne.txt')\n",
    "            except:\n",
    "                data = np.loadtxt(data_path + zeta_lambda_comb[k] + \\\n",
    "                                  'xeU1_stable_branch1_eqPt1_DelE%.1f'%(deltaE_vals[i]) + \\\n",
    "                                  '_deleonberne.txt')\n",
    "    \n",
    "\n",
    "        tubemani_intersect_area[i,k] = DB2dof.get_area_closed_curve(data[:,(0,2)]) \n",
    "\n",
    "        # set parameters to calculate energy boundary on the section y = y_w\n",
    "        params = set_parameters(zeta_lambda_comb[k])\n",
    "\n",
    "        energy_boundary = DB2dof.get_energybndry_intersect_sos(params, \n",
    "                                                        deltaE_vals[i], printFlag)\n",
    "        \n",
    "        energysurf_intersect_area[i,k] = DB2dof.get_area_closed_curve(energy_boundary) \n",
    "        "
   ]
  },
  {
   "cell_type": "markdown",
   "metadata": {},
   "source": [
    "## Plotting reaction fraction for small excess energy"
   ]
  },
  {
   "cell_type": "code",
   "execution_count": 30,
   "metadata": {},
   "outputs": [
    {
     "name": "stdout",
     "output_type": "stream",
     "text": [
      "Using matplotlib backend: MacOSX\n"
     ]
    }
   ],
   "source": [
    "\n",
    "%matplotlib\n",
    "# print(tube_intersect_area)\n",
    "\n",
    "ls_tick = 20\n",
    "ls_axes = 25\n",
    "mpl.rcParams['xtick.labelsize'] = ls_tick\n",
    "mpl.rcParams['ytick.labelsize'] = ls_tick\n",
    "mpl.rcParams['axes.labelsize'] = ls_axes\n",
    "\n",
    "\n",
    "# markertype = ['^-c','s-r','v-g','h-b','d-k','<-m','>-']\n",
    "if len(zeta_lambda_comb) == 4:\n",
    "    markertype = ['^-c','s-r','d-k','>-']\n",
    "\n",
    "\n",
    "fig = plt.figure(figsize = (10,10))\n",
    "ax = fig.gca()\n",
    "\n",
    "for k in range(len(zeta_lambda_comb)):\n",
    "#     k = 3\n",
    "    params = set_parameters(zeta_lambda_comb[k])\n",
    "    \n",
    "#     ax.plot(deltaE_vals, tubemani_intersect_area[:,k], '-')\n",
    "    line_handle = ax.plot(params[2] + deltaE_vals, \\\n",
    "                    tubemani_intersect_area[:,k]/energysurf_intersect_area[:,k], \\\n",
    "                    markertype[k], \\\n",
    "                    label = r'$\\zeta = %.2f,\\lambda = %.2f$'%(params[4],params[5]))\n",
    "    \n",
    "    ax.legend(fontsize = ls_tick)\n",
    "\n",
    "\n",
    "ax.set_ylim([-0.02, 0.52])\n",
    "ax.set_xlabel(r'Total energy, $E$', fontsize = ls_axes)\n",
    "# ax.set_ylabel(r'Reaction fraction, $T_{\\rm react}(E)$', fontsize = ls_axes)\n",
    "ax.set_ylabel(r'Microcanonical reaction probability, $T_{\\rm react}(E)$', fontsize = ls_axes)\n",
    "\n",
    "# fig.savefig('temp.pdf', bbox_inches = 'tight')\n",
    "plt.show()\n",
    "\n"
   ]
  },
  {
   "cell_type": "markdown",
   "metadata": {},
   "source": [
    "## Loading the manifold intersection data (warning: takes a bit of time)"
   ]
  },
  {
   "cell_type": "code",
   "execution_count": null,
   "metadata": {},
   "outputs": [],
   "source": [
    "\n",
    "\n",
    "# data_path = '/Users/OptimusPrime/Documents/reaction-dynamics/data/DeLeon-Berne/' + \\\n",
    "#     'reaction-fraction/stable-mani-top-well/'\n",
    "data_path = '/Users/OptimusPrime/Documents/reaction-dynamics/system-bath/' + \\\n",
    "    'data-figures/DeLeon-Berne/reaction-fraction/stable-mani-top-well/'\n",
    "\n",
    "# energy range discretization, this should match the data\n",
    "deltaE_start = 1.1;\n",
    "deltaE_stop = 6.5;\n",
    "deltaE_step = 0.1;\n",
    "\n",
    "deltaE_vals = np.arange(deltaE_start,deltaE_stop + deltaE_step,deltaE_step)\n",
    "\n",
    "zeta_lambda_comb = ['ZETA0.00-LAMBDA1.00/','fig3A1/','fig3B2/','fig3C2/']\n",
    "\n",
    "tubemani_intersect_area = np.zeros((len(deltaE_vals),len(zeta_lambda_comb)))\n",
    "energysurf_intersect_area = np.zeros((len(deltaE_vals),len(zeta_lambda_comb)))\n",
    "\n",
    "printFlag = False\n",
    "for k in range(len(zeta_lambda_comb)):\n",
    "    for i in range(len(deltaE_vals)):\n",
    "    \n",
    "        if (float(deltaE_vals[i]) - int(deltaE_vals[i]) < 1e-12):    \n",
    "            data = np.loadtxt(data_path + zeta_lambda_comb[k] + \\\n",
    "                              'xeU1_stable_branch1_eqPt1_DelE%.0f'%(deltaE_vals[i]) + \\\n",
    "                              '_deleonberne.txt')\n",
    "        else:\n",
    "            data = np.loadtxt(data_path + zeta_lambda_comb[k] + \\\n",
    "                              'xeU1_stable_branch1_eqPt1_DelE%.1f'%(deltaE_vals[i]) + \\\n",
    "                              '_deleonberne.txt')\n",
    "        \n",
    "        \n",
    "\n",
    "        tubemani_intersect_area[i,k] = DB2dof.get_area_closed_curve(data[:,(0,2)]) \n",
    "\n",
    "        # set parameters to calculate energy boundary on the section y = y_w\n",
    "        params = set_parameters(zeta_lambda_comb[k])\n",
    "\n",
    "        energy_boundary = get_energybndry_intersect_sos(params, \n",
    "                                                        deltaE_vals[i], printFlag)\n",
    "        \n",
    "        energysurf_intersect_area[i,k] = DB2dof.get_area_closed_curve(energy_boundary) \n",
    "        \n"
   ]
  },
  {
   "cell_type": "markdown",
   "metadata": {},
   "source": [
    "## Plotting reaction fraction for large excess energy"
   ]
  },
  {
   "cell_type": "code",
   "execution_count": null,
   "metadata": {},
   "outputs": [],
   "source": [
    "\n",
    "# print(tube_intersect_area)\n",
    "%matplotlib\n",
    "\n",
    "ls_tick = 20\n",
    "ls_axes = 25\n",
    "mpl.rcParams['xtick.labelsize'] = ls_tick\n",
    "mpl.rcParams['ytick.labelsize'] = ls_tick\n",
    "mpl.rcParams['axes.labelsize'] = ls_axes\n",
    "\n",
    "\n",
    "markertype = ['^-c','s-r','d-k','>-']\n",
    "fig = plt.figure(figsize = (10,10))\n",
    "ax = fig.gca()\n",
    "\n",
    "for k in range(len(zeta_lambda_comb)):\n",
    "    params = DB2dof.set_parameters(zeta_lambda_comb[k])\n",
    "    \n",
    "#     ax.plot(deltaE_vals, tubemani_intersect_area[:,k], '-')\n",
    "    line_handle = ax.plot(params[2] + deltaE_vals, \\\n",
    "                    tubemani_intersect_area[:,k]/energysurf_intersect_area[:,k], \\\n",
    "                    markertype[k], \\\n",
    "                    label = r'$\\zeta = %.2f,\\lambda = %.2f$'%(params[4],params[5]))\n",
    "    \n",
    "    ax.legend(fontsize = ls_tick)\n",
    "\n",
    "\n",
    "ax.set_ylim([0.48,0.92])\n",
    "ax.set_xlabel(r'Total energy, $E$', fontsize = ls_axes)\n",
    "# ax.set_ylabel(r'Reaction fraction, $T_{\\rm react}(E)$', fontsize = ls_axes)\n",
    "ax.set_ylabel(r'Microcanonical reaction probability, $T_{\\rm react}(E)$', fontsize = ls_axes)\n",
    "\n",
    "# fig.savefig('temp.pdf', bbox_inches = 'tight')\n",
    "plt.show()\n",
    "\n"
   ]
  },
  {
   "cell_type": "code",
   "execution_count": null,
   "metadata": {},
   "outputs": [],
   "source": [
    "\n"
   ]
  },
  {
   "cell_type": "code",
   "execution_count": null,
   "metadata": {},
   "outputs": [],
   "source": []
  },
  {
   "cell_type": "code",
   "execution_count": null,
   "metadata": {},
   "outputs": [],
   "source": []
  },
  {
   "cell_type": "code",
   "execution_count": null,
   "metadata": {},
   "outputs": [],
   "source": []
  }
 ],
 "metadata": {
  "kernelspec": {
   "display_name": "Python 3",
   "language": "python",
   "name": "python3"
  },
  "language_info": {
   "codemirror_mode": {
    "name": "ipython",
    "version": 3
   },
   "file_extension": ".py",
   "mimetype": "text/x-python",
   "name": "python",
   "nbconvert_exporter": "python",
   "pygments_lexer": "ipython3",
   "version": "3.6.8"
  },
  "latex_envs": {
   "LaTeX_envs_menu_present": true,
   "autoclose": true,
   "autocomplete": true,
   "bibliofile": "biblio.bib",
   "cite_by": "apalike",
   "current_citInitial": 1,
   "eqLabelWithNumbers": true,
   "eqNumInitial": 1,
   "hotkeys": {
    "equation": "Ctrl-E",
    "itemize": "Ctrl-I"
   },
   "labels_anchors": false,
   "latex_user_defs": false,
   "report_style_numbering": true,
   "user_envs_cfg": false
  },
  "toc": {
   "base_numbering": 1,
   "nav_menu": {},
   "number_sections": true,
   "sideBar": true,
   "skip_h1_title": false,
   "title_cell": "Table of Contents",
   "title_sidebar": "Contents",
   "toc_cell": true,
   "toc_position": {},
   "toc_section_display": true,
   "toc_window_display": true
  }
 },
 "nbformat": 4,
 "nbformat_minor": 2
}
